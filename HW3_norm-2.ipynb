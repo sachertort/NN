{
  "cells": [
    {
      "cell_type": "code",
      "execution_count": null,
      "metadata": {
        "id": "2catEYxOy8a3"
      },
      "outputs": [],
      "source": [
        "!mkdir -p ~/.kaggle/\n",
        "!mv kaggle.json ~/.kaggle/\n",
        "!chmod 600 ~/.kaggle/kaggle.json"
      ]
    },
    {
      "cell_type": "code",
      "execution_count": null,
      "metadata": {
        "colab": {
          "base_uri": "https://localhost:8080/"
        },
        "id": "Ws0SdIYf5MxB",
        "outputId": "2bcdae90-4425-42c9-a56b-4b9595b0f3fe"
      },
      "outputs": [
        {
          "name": "stdout",
          "output_type": "stream",
          "text": [
            "fake-and-real-news-dataset.zip: Skipping, found more recently modified local copy (use --force to force download)\n",
            "Archive:  fake-and-real-news-dataset.zip\n",
            "replace Fake.csv? [y]es, [n]o, [A]ll, [N]one, [r]ename: n\n",
            "replace True.csv? [y]es, [n]o, [A]ll, [N]one, [r]ename: n\n"
          ]
        }
      ],
      "source": [
        "!kaggle datasets download -d clmentbisaillon/fake-and-real-news-dataset\n",
        "!unzip fake-and-real-news-dataset.zip"
      ]
    },
    {
      "cell_type": "code",
      "execution_count": null,
      "metadata": {
        "colab": {
          "base_uri": "https://localhost:8080/"
        },
        "id": "710SkdktN1YU",
        "outputId": "83967dfe-de66-4387-fc41-d5f4942e6b5b"
      },
      "outputs": [
        {
          "name": "stdout",
          "output_type": "stream",
          "text": [
            "Requirement already satisfied: fasttext in /usr/local/lib/python3.7/dist-packages (0.9.2)\n",
            "Requirement already satisfied: numpy in /usr/local/lib/python3.7/dist-packages (from fasttext) (1.19.5)\n",
            "Requirement already satisfied: setuptools>=0.7.0 in /usr/local/lib/python3.7/dist-packages (from fasttext) (57.4.0)\n",
            "Requirement already satisfied: pybind11>=2.2 in /usr/local/lib/python3.7/dist-packages (from fasttext) (2.9.0)\n"
          ]
        }
      ],
      "source": [
        "!pip install fasttext"
      ]
    },
    {
      "cell_type": "code",
      "execution_count": null,
      "metadata": {
        "colab": {
          "base_uri": "https://localhost:8080/"
        },
        "id": "sveMIlMgf-19",
        "outputId": "1c478a8d-ab32-442a-e595-7d6d6b6694b4"
      },
      "outputs": [
        {
          "name": "stdout",
          "output_type": "stream",
          "text": [
            "Requirement already satisfied: torchmetrics in /usr/local/lib/python3.7/dist-packages (0.6.2)\n",
            "Requirement already satisfied: numpy>=1.17.2 in /usr/local/lib/python3.7/dist-packages (from torchmetrics) (1.19.5)\n",
            "Requirement already satisfied: torch>=1.3.1 in /usr/local/lib/python3.7/dist-packages (from torchmetrics) (1.10.0+cu111)\n",
            "Requirement already satisfied: packaging in /usr/local/lib/python3.7/dist-packages (from torchmetrics) (21.3)\n",
            "Requirement already satisfied: typing-extensions in /usr/local/lib/python3.7/dist-packages (from torch>=1.3.1->torchmetrics) (3.10.0.2)\n",
            "Requirement already satisfied: pyparsing!=3.0.5,>=2.0.2 in /usr/local/lib/python3.7/dist-packages (from packaging->torchmetrics) (3.0.6)\n"
          ]
        }
      ],
      "source": [
        "!pip install torchmetrics"
      ]
    },
    {
      "cell_type": "code",
      "execution_count": 219,
      "metadata": {
        "id": "vwhHyKQU69eD"
      },
      "outputs": [],
      "source": [
        "import pandas as pd\n",
        "from nltk import word_tokenize\n",
        "from tqdm import tqdm\n",
        "from collections import Counter\n",
        "import nltk\n",
        "import seaborn as sns\n",
        "from matplotlib import pyplot as plt\n",
        "from string import punctuation\n",
        "import torch\n",
        "from torch.utils.data import Dataset, DataLoader, RandomSampler, SequentialSampler\n",
        "from torch.nn.utils.rnn import pad_sequence\n",
        "from sklearn.model_selection import train_test_split\n",
        "import torch.nn as nn\n",
        "import numpy as np\n",
        "import fasttext\n",
        "from sklearn.metrics import f1_score\n",
        "from torchmetrics.functional import accuracy"
      ]
    },
    {
      "cell_type": "code",
      "execution_count": null,
      "metadata": {
        "colab": {
          "base_uri": "https://localhost:8080/"
        },
        "id": "PWUVBeZoDyxS",
        "outputId": "80589a67-ff24-4d28-bc73-c562609c3f80"
      },
      "outputs": [
        {
          "name": "stdout",
          "output_type": "stream",
          "text": [
            "[nltk_data] Downloading package punkt to /root/nltk_data...\n",
            "[nltk_data]   Package punkt is already up-to-date!\n"
          ]
        },
        {
          "data": {
            "text/plain": [
              "True"
            ]
          },
          "execution_count": 180,
          "metadata": {},
          "output_type": "execute_result"
        }
      ],
      "source": [
        "nltk.download('punkt')"
      ]
    },
    {
      "cell_type": "code",
      "execution_count": null,
      "metadata": {
        "id": "MWlM-s_Z6onH"
      },
      "outputs": [],
      "source": [
        "data = pd.read_csv('Fake.csv')\n",
        "\n",
        "data['text'] = data.apply(lambda row: '{} {}'.format(row[0], row[1]), axis=1)\n",
        "data = data.drop(columns=['title', 'date'])\n",
        "data['subject'] = data['subject'].astype('category').cat.codes"
      ]
    },
    {
      "cell_type": "code",
      "execution_count": null,
      "metadata": {
        "id": "XnIK5lpT62W-"
      },
      "outputs": [],
      "source": [
        "def preprocess(text):\n",
        "    text = [token for token in word_tokenize(text.lower()) if token not in punctuation]\n",
        "    return text"
      ]
    },
    {
      "cell_type": "code",
      "execution_count": null,
      "metadata": {
        "colab": {
          "base_uri": "https://localhost:8080/"
        },
        "id": "J-YdR3Gv_R9K",
        "outputId": "19108c1b-a150-4c3d-d7c9-846604d1583a"
      },
      "outputs": [
        {
          "name": "stderr",
          "output_type": "stream",
          "text": [
            "100%|██████████| 23481/23481 [01:19<00:00, 293.53it/s]\n"
          ]
        }
      ],
      "source": [
        "vocab = Counter()\n",
        "lengths = []\n",
        "\n",
        "for text in tqdm(data.text):\n",
        "    words = preprocess(text)\n",
        "    lengths.append(len(words))\n",
        "    vocab.update(words)"
      ]
    },
    {
      "cell_type": "code",
      "execution_count": null,
      "metadata": {
        "colab": {
          "base_uri": "https://localhost:8080/",
          "height": 692
        },
        "id": "uNfbU_0CDuDt",
        "outputId": "6a03b2bb-f665-47b2-baf1-4040be8a65f6"
      },
      "outputs": [
        {
          "name": "stderr",
          "output_type": "stream",
          "text": [
            "/usr/local/lib/python3.7/dist-packages/seaborn/distributions.py:2619: FutureWarning: `distplot` is a deprecated function and will be removed in a future version. Please adapt your code to use either `displot` (a figure-level function with similar flexibility) or `histplot` (an axes-level function for histograms).\n",
            "  warnings.warn(msg, FutureWarning)\n"
          ]
        },
        {
          "data": {
            "text/plain": [
              "<matplotlib.axes._subplots.AxesSubplot at 0x7f4993885e90>"
            ]
          },
          "execution_count": 184,
          "metadata": {},
          "output_type": "execute_result"
        },
        {
          "data": {
            "image/png": "[encoded data removed]",
            "text/plain": [
              "<Figure size 1152x720 with 1 Axes>"
            ]
          },
          "metadata": {},
          "output_type": "display_data"
        }
      ],
      "source": [
        "plt.figure(figsize=(16, 10))\n",
        "plt.title('распределение длин текстов')\n",
        "plt.xlabel('длина текста в словах')\n",
        "plt.ylabel('доля')\n",
        "sns.distplot(lengths)"
      ]
    },
    {
      "cell_type": "code",
      "execution_count": null,
      "metadata": {
        "colab": {
          "base_uri": "https://localhost:8080/"
        },
        "id": "7hJfP-SAFIe-",
        "outputId": "9e2c3707-21c9-4b24-9714-2a8aa6ff4c9b"
      },
      "outputs": [
        {
          "name": "stdout",
          "output_type": "stream",
          "text": [
            "доля текстов длиннее 512 слов: 27.0%\n"
          ]
        }
      ],
      "source": [
        "perc = round(len([l for l in lengths if l > 512]) / len(lengths), 2) * 100\n",
        "print('доля текстов длиннее 512 слов:', str(perc) + '%')"
      ]
    },
    {
      "cell_type": "code",
      "execution_count": null,
      "metadata": {
        "colab": {
          "base_uri": "https://localhost:8080/"
        },
        "id": "8GHo1BXQo07G",
        "outputId": "1c842534-3f1e-4b6f-83fe-561cbbb17860"
      },
      "outputs": [
        {
          "name": "stdout",
          "output_type": "stream",
          "text": [
            "средняя длина 1 текста в словах: 441\n"
          ]
        }
      ],
      "source": [
        "print('средняя длина 1 текста в словах:', round(sum(lengths) / len(lengths)))"
      ]
    },
    {
      "cell_type": "code",
      "execution_count": null,
      "metadata": {
        "colab": {
          "base_uri": "https://localhost:8080/"
        },
        "id": "LIFLsELpGyFt",
        "outputId": "37083c6c-a414-4f48-86ea-994dc09f3320"
      },
      "outputs": [
        {
          "name": "stderr",
          "output_type": "stream",
          "text": [
            "100%|██████████| 184868/184868 [00:00<00:00, 1254335.53it/s]\n"
          ]
        }
      ],
      "source": [
        "# пока что нет никакой фильтрации по частотности слов\n",
        "word2id = {'PAD': 0}\n",
        "for word in tqdm(vocab.keys()):\n",
        "    word2id[word] = len(word2id)"
      ]
    },
    {
      "cell_type": "code",
      "execution_count": null,
      "metadata": {
        "colab": {
          "base_uri": "https://localhost:8080/"
        },
        "id": "yLuIbNZ0ITLA",
        "outputId": "3bccf9e8-a616-4b92-8e64-180dd857551b"
      },
      "outputs": [
        {
          "name": "stdout",
          "output_type": "stream",
          "text": [
            "--2021-12-29 14:59:35--  https://dl.fbaipublicfiles.com/fasttext/vectors-crawl/cc.en.300.bin.gz\n",
            "Resolving dl.fbaipublicfiles.com (dl.fbaipublicfiles.com)... 104.22.74.142, 172.67.9.4, 104.22.75.142, ...\n",
            "Connecting to dl.fbaipublicfiles.com (dl.fbaipublicfiles.com)|104.22.74.142|:443... connected.\n",
            "HTTP request sent, awaiting response... 200 OK\n",
            "Length: 4503593528 (4.2G) [application/octet-stream]\n",
            "Saving to: ‘cc.en.300.bin.gz’\n",
            "\n",
            "cc.en.300.bin.gz      1%[                    ]  63.77M  16.2MB/s    eta 4m 34s ^C\n"
          ]
        }
      ],
      "source": [
        "!wget https://dl.fbaipublicfiles.com/fasttext/vectors-crawl/cc.en.300.bin.gz"
      ]
    },
    {
      "cell_type": "code",
      "execution_count": null,
      "metadata": {
        "id": "jlkVYJo4ITpP"
      },
      "outputs": [],
      "source": [
        "!gzip -d cc.en.300.bin.gz"
      ]
    },
    {
      "cell_type": "code",
      "execution_count": null,
      "metadata": {
        "colab": {
          "base_uri": "https://localhost:8080/"
        },
        "id": "Hh8zFnYuG9He",
        "outputId": "d1cbf4f7-3e8c-46ed-cdd2-6ae20d1fc952"
      },
      "outputs": [
        {
          "name": "stderr",
          "output_type": "stream",
          "text": [
            "Warning : `load_model` does not return WordVectorModel or SupervisedModel any more, but a `FastText` object which is very similar.\n"
          ]
        }
      ],
      "source": [
        "ft = fasttext.load_model('cc.en.300.bin')"
      ]
    },
    {
      "cell_type": "code",
      "execution_count": null,
      "metadata": {
        "colab": {
          "base_uri": "https://localhost:8080/"
        },
        "id": "Yuxh3hq1G9D-",
        "outputId": "df02f9bf-b74d-4c1d-d727-df2b4e9469d2"
      },
      "outputs": [
        {
          "name": "stderr",
          "output_type": "stream",
          "text": [
            "100%|██████████| 184869/184869 [00:03<00:00, 57870.39it/s]\n"
          ]
        }
      ],
      "source": [
        "vectors = np.zeros((len(word2id), 300))\n",
        "for word, i in tqdm(word2id.items()):\n",
        "    if word == 'PAD':\n",
        "        continue   \n",
        "    try:\n",
        "        vectors[i] = ft[word]\n",
        "    except KeyError:\n",
        "        vectors[i] = np.random.uniform(-0.25,0.25,300)"
      ]
    },
    {
      "cell_type": "code",
      "execution_count": null,
      "metadata": {
        "id": "9q17z2vIG9Ae"
      },
      "outputs": [],
      "source": [
        "del ft"
      ]
    },
    {
      "cell_type": "code",
      "execution_count": null,
      "metadata": {
        "colab": {
          "base_uri": "https://localhost:8080/"
        },
        "id": "fBIehLHRITvj",
        "outputId": "4816d8fc-e564-4825-9a48-0a6d1a16701b"
      },
      "outputs": [
        {
          "data": {
            "text/plain": [
              "device(type='cuda')"
            ]
          },
          "execution_count": 192,
          "metadata": {},
          "output_type": "execute_result"
        }
      ],
      "source": [
        "DEVICE = torch.device('cuda') if torch.cuda.is_available() else torch.device('cpu')\n",
        "DEVICE"
      ]
    },
    {
      "cell_type": "code",
      "execution_count": null,
      "metadata": {
        "id": "mZFVWF0fIT5-"
      },
      "outputs": [],
      "source": [
        "class NewsDataset(Dataset):\n",
        "    def __init__(self, dataset, word2id, DEVICE):\n",
        "        self.dataset = []\n",
        "        self.word2id = word2id\n",
        "        self.length = dataset.shape[0]\n",
        "        self.target = dataset['subject'].values\n",
        "        self.load(dataset['text'].values)\n",
        "        self.device = DEVICE\n",
        "\n",
        "\n",
        "    def __len__(self):\n",
        "        return self.length\n",
        "\n",
        "\n",
        "    @staticmethod\n",
        "    def preprocess(text):\n",
        "        text = [token for token in word_tokenize(text.lower()) if token not in punctuation]\n",
        "        return text\n",
        "\n",
        "\n",
        "    def load(self, texts, verbose=True):\n",
        "        data_iterator = tqdm(texts, desc='loading data', disable=not verbose)\n",
        "        for text in data_iterator:\n",
        "            words = self.preprocess(text)\n",
        "            self.dataset.append(words)\n",
        "\n",
        "    \n",
        "    def indexing(self, tokenized_text):\n",
        "        return [self.word2id[word] for word in tokenized_text if word in self.word2id]\n",
        "\n",
        "\n",
        "    def __getitem__(self, index): \n",
        "        words = list(self.dataset[index])\n",
        "        x = torch.cuda.LongTensor(self.indexing(words[:1024]))\n",
        "        y = self.target[index]\n",
        "        return x, y\n",
        "\n",
        "\n",
        "    def collate_fn(self, batch):\n",
        "        ids, y = list(zip(*batch))\n",
        "        padded_ids = pad_sequence(ids, batch_first=True).to(self.device)\n",
        "        y = torch.Tensor(y).to(self.device)\n",
        "        return padded_ids, y"
      ]
    },
    {
      "cell_type": "code",
      "execution_count": 263,
      "metadata": {
        "id": "oKIie_62kXNJ"
      },
      "outputs": [],
      "source": [
        "train_data, val_data = train_test_split(data, test_size=0.2)"
      ]
    },
    {
      "cell_type": "code",
      "execution_count": 264,
      "metadata": {
        "colab": {
          "base_uri": "https://localhost:8080/"
        },
        "id": "fYtt6aTniFVW",
        "outputId": "39f56f55-5094-4983-dbb5-aa7449d7fdb4"
      },
      "outputs": [
        {
          "output_type": "stream",
          "name": "stderr",
          "text": [
            "loading data: 100%|██████████| 18784/18784 [01:00<00:00, 312.26it/s]\n"
          ]
        }
      ],
      "source": [
        "train_dataset = NewsDataset(train_data, word2id, DEVICE)\n",
        "train_sampler = RandomSampler(train_dataset)\n",
        "train_iterator = DataLoader(train_dataset, collate_fn = train_dataset.collate_fn, sampler=train_sampler, batch_size=256)"
      ]
    },
    {
      "cell_type": "code",
      "execution_count": 199,
      "metadata": {
        "colab": {
          "base_uri": "https://localhost:8080/"
        },
        "id": "n0YTmn2MlTTE",
        "outputId": "64250f98-0254-4dd7-c5d1-764e9d4c7dab"
      },
      "outputs": [
        {
          "output_type": "stream",
          "name": "stderr",
          "text": [
            "loading data: 100%|██████████| 4697/4697 [00:22<00:00, 212.23it/s]\n"
          ]
        }
      ],
      "source": [
        "val_dataset = NewsDataset(val_data, word2id, DEVICE)\n",
        "val_sampler = SequentialSampler(val_dataset)\n",
        "val_iterator = DataLoader(val_dataset, collate_fn = val_dataset.collate_fn, sampler=val_sampler, batch_size=256)"
      ]
    },
    {
      "cell_type": "code",
      "execution_count": 265,
      "metadata": {
        "id": "WIxn_yLHQgS3"
      },
      "outputs": [],
      "source": [
        "n_cats = len(data['subject'].unique())"
      ]
    },
    {
      "cell_type": "code",
      "execution_count": 266,
      "metadata": {
        "id": "4YKC7Yfblx0S"
      },
      "outputs": [],
      "source": [
        "class CLSTM(nn.Module):\n",
        "    def __init__(self, vectors, n_cats=6, p1=0.5, p2=0.5, embedding_dim=300, \n",
        "                 out_channels=150, kernel_size=3, padding='same',\n",
        "                 hidden_size=150, num_layers=1,\n",
        "                 bidirectional=False, ngrams_sec=False, in_channels_sec=None,\n",
        "                 out_channels_sec=None, kernel_size_sec=None):\n",
        "        super().__init__()\n",
        "        self.embedding = nn.Embedding.from_pretrained(torch.Tensor(vectors), freeze=False)\n",
        "        self.dropout1 = nn.Dropout(p=p1)\n",
        "\n",
        "        self.ngrams = nn.Conv1d(in_channels=embedding_dim, \n",
        "                                  out_channels=out_channels, \n",
        "                                  kernel_size=kernel_size, \n",
        "                                  padding=padding)\n",
        "        \n",
        "        self.ngrams_sec = ngrams_sec\n",
        "        if self.ngrams_sec:\n",
        "            self.ngrams_second = nn.Conv1d(in_channels=in_channels_sec, \n",
        "                                    out_channels=out_channels_sec, \n",
        "                                    kernel_size=kernel_size_sec, \n",
        "                                    padding=padding)\n",
        "        \n",
        "        self.relu = nn.ReLU()\n",
        "        \n",
        "        self.LSTM = nn.LSTM(input_size=out_channels,\n",
        "                                  hidden_size=hidden_size,\n",
        "                                  num_layers=num_layers,\n",
        "                                  bidirectional=bidirectional,\n",
        "                                  batch_first=True)\n",
        "        \n",
        "        self.dropout2 = nn.Dropout(p=p2)\n",
        "\n",
        "        self.out = nn.Linear(hidden_size, n_cats)\n",
        "        \n",
        "        \n",
        "\n",
        "    def forward(self, word):\n",
        "        x = self.embedding(word)\n",
        "        x = x.transpose(1,2)\n",
        "        x = self.dropout1(x)\n",
        "        x = self.ngrams(x)\n",
        "        x = self.relu(x)\n",
        "        if self.ngrams_sec:\n",
        "            x2 = self.ngrams(x)\n",
        "            x2 = self.relu(x2)\n",
        "        x = x.transpose(1,2)\n",
        "        o_n, (h_n, c_n) = self.LSTM(x)\n",
        "        x = self.dropout2(h_n)\n",
        "        x = x.squeeze(0)\n",
        "        x = self.out(x)\n",
        "\n",
        "        return x"
      ]
    },
    {
      "cell_type": "code",
      "execution_count": 267,
      "metadata": {
        "id": "9j1fRM1VWONV"
      },
      "outputs": [],
      "source": [
        "def training(model, iterator, optimizer, criterion):\n",
        "    epoch_loss = 0 \n",
        "\n",
        "    model.train()\n",
        "\n",
        "    for i, (texts, ys) in enumerate(iterator): \n",
        "        optimizer.zero_grad()\n",
        "        preds = model(texts)\n",
        "        loss = criterion(preds, ys.long())\n",
        "        loss.backward()\n",
        "        optimizer.step()\n",
        "        epoch_loss += loss.item()\n",
        "\n",
        "    return  model, epoch_loss / len(iterator)"
      ]
    },
    {
      "cell_type": "code",
      "execution_count": 268,
      "metadata": {
        "id": "sgRc7feGWRRg"
      },
      "outputs": [],
      "source": [
        "def evaluate(model, iterator, criterion):\n",
        "    epoch_loss = 0\n",
        "    epoch_metric = 0\n",
        "    model.eval() \n",
        "    with torch.no_grad():\n",
        "        for i, (texts, ys) in enumerate(iterator):   \n",
        "            preds = model(texts)\n",
        "            loss = criterion(preds, ys.long())\n",
        "            epoch_loss += loss.item()\n",
        "            batch_metric = accuracy(preds, ys.long())\n",
        "            epoch_metric += batch_metric.item()\n",
        "        \n",
        "    return epoch_metric / len(iterator), epoch_loss / len(iterator)"
      ]
    },
    {
      "cell_type": "code",
      "execution_count": 272,
      "metadata": {
        "id": "AIpMMF4KWaG-",
        "colab": {
          "base_uri": "https://localhost:8080/"
        },
        "outputId": "89b7fdea-e554-4700-a6b5-97a59b8d2cf0"
      },
      "outputs": [
        {
          "output_type": "stream",
          "name": "stdout",
          "text": [
            "CLSTM(\n",
            "  (embedding): Embedding(184869, 300)\n",
            "  (dropout1): Dropout(p=0.5, inplace=False)\n",
            "  (ngrams): Conv1d(300, 150, kernel_size=(3,), stride=(1,), padding=same)\n",
            "  (relu): ReLU()\n",
            "  (LSTM): LSTM(150, 150, batch_first=True)\n",
            "  (dropout2): Dropout(p=0.5, inplace=False)\n",
            "  (out): Linear(in_features=150, out_features=6, bias=True)\n",
            ")\n"
          ]
        }
      ],
      "source": [
        "model = CLSTM(vectors)\n",
        "optimizer = torch.optim.RMSprop(model.parameters(), lr=0.01)\n",
        "criterion = nn.CrossEntropyLoss()\n",
        "print(model)\n",
        "model = model.to(DEVICE)\n",
        "criterion = criterion.to(DEVICE)"
      ]
    },
    {
      "cell_type": "code",
      "execution_count": 273,
      "metadata": {
        "colab": {
          "base_uri": "https://localhost:8080/"
        },
        "id": "rQWLDfUiWnff",
        "outputId": "dcaabb3c-7079-4c8a-d09f-c5d41c0123c7"
      },
      "outputs": [
        {
          "output_type": "stream",
          "name": "stderr",
          "text": [
            "\r  0%|          | 0/10 [00:00<?, ?it/s]"
          ]
        },
        {
          "output_type": "stream",
          "name": "stdout",
          "text": [
            "\n",
            "epoch 0\n",
            "epoch loss on train: 1.5771029124388825\n",
            "\n",
            "test evaluation:\n"
          ]
        },
        {
          "output_type": "stream",
          "name": "stderr",
          "text": [
            "\r 10%|█         | 1/10 [00:21<03:13, 21.50s/it]"
          ]
        },
        {
          "output_type": "stream",
          "name": "stdout",
          "text": [
            "\n",
            "epoch loss on test: 1.430844181462338\n",
            "accuracy on test: 0.3884258568286896\n",
            "--------------------\n",
            "\n",
            "epoch 1\n",
            "epoch loss on train: 1.4458734264244903\n",
            "\n",
            "test evaluation:\n"
          ]
        },
        {
          "output_type": "stream",
          "name": "stderr",
          "text": [
            "\r 20%|██        | 2/10 [00:42<02:51, 21.42s/it]"
          ]
        },
        {
          "output_type": "stream",
          "name": "stdout",
          "text": [
            "\n",
            "epoch loss on test: 1.4319347456881875\n",
            "accuracy on test: 0.3876034884076369\n",
            "--------------------\n",
            "\n",
            "epoch 2\n",
            "epoch loss on train: 1.4299111833443512\n",
            "\n",
            "test evaluation:\n"
          ]
        },
        {
          "output_type": "stream",
          "name": "stderr",
          "text": [
            "\r 30%|███       | 3/10 [01:04<02:30, 21.43s/it]"
          ]
        },
        {
          "output_type": "stream",
          "name": "stdout",
          "text": [
            "\n",
            "epoch loss on test: 1.415146124990363\n",
            "accuracy on test: 0.39109855419711065\n",
            "--------------------\n",
            "\n",
            "epoch 3\n",
            "epoch loss on train: 1.4345349137847487\n",
            "\n",
            "test evaluation:\n"
          ]
        },
        {
          "output_type": "stream",
          "name": "stderr",
          "text": [
            "\r 40%|████      | 4/10 [01:25<02:08, 21.39s/it]"
          ]
        },
        {
          "output_type": "stream",
          "name": "stdout",
          "text": [
            "\n",
            "epoch loss on test: 1.4146311345853304\n",
            "accuracy on test: 0.39438802788132116\n",
            "--------------------\n",
            "\n",
            "epoch 4\n",
            "epoch loss on train: 1.4292172451277037\n",
            "\n",
            "test evaluation:\n"
          ]
        },
        {
          "output_type": "stream",
          "name": "stderr",
          "text": [
            "\r 50%|█████     | 5/10 [01:47<01:47, 21.41s/it]"
          ]
        },
        {
          "output_type": "stream",
          "name": "stdout",
          "text": [
            "\n",
            "epoch loss on test: 1.3699994965603477\n",
            "accuracy on test: 0.3943626190486707\n",
            "--------------------\n",
            "\n",
            "epoch 5\n",
            "epoch loss on train: 1.2939784397950043\n",
            "\n",
            "test evaluation:\n"
          ]
        },
        {
          "output_type": "stream",
          "name": "stderr",
          "text": [
            "\r 60%|██████    | 6/10 [02:08<01:25, 21.45s/it]"
          ]
        },
        {
          "output_type": "stream",
          "name": "stdout",
          "text": [
            "\n",
            "epoch loss on test: 1.2034794405887002\n",
            "accuracy on test: 0.3970353164170918\n",
            "--------------------\n",
            "\n",
            "epoch 6\n",
            "epoch loss on train: 1.2397967834730406\n",
            "\n",
            "test evaluation:\n"
          ]
        },
        {
          "output_type": "stream",
          "name": "stderr",
          "text": [
            "\r 70%|███████   | 7/10 [02:30<01:04, 21.44s/it]"
          ]
        },
        {
          "output_type": "stream",
          "name": "stdout",
          "text": [
            "\n",
            "epoch loss on test: 1.1265621812720048\n",
            "accuracy on test: 0.3966495410392159\n",
            "--------------------\n",
            "\n",
            "epoch 7\n",
            "epoch loss on train: 1.2265667351516518\n",
            "\n",
            "test evaluation:\n"
          ]
        },
        {
          "output_type": "stream",
          "name": "stderr",
          "text": [
            "\r 80%|████████  | 8/10 [02:51<00:42, 21.43s/it]"
          ]
        },
        {
          "output_type": "stream",
          "name": "stdout",
          "text": [
            "\n",
            "epoch loss on test: 1.0852257452513043\n",
            "accuracy on test: 0.5637220018788388\n",
            "--------------------\n",
            "\n",
            "epoch 8\n",
            "epoch loss on train: 1.2119396651113354\n",
            "\n",
            "test evaluation:\n"
          ]
        },
        {
          "output_type": "stream",
          "name": "stderr",
          "text": [
            "\r 90%|█████████ | 9/10 [03:12<00:21, 21.39s/it]"
          ]
        },
        {
          "output_type": "stream",
          "name": "stdout",
          "text": [
            "\n",
            "epoch loss on test: 1.0370407073121322\n",
            "accuracy on test: 0.6829700438599837\n",
            "--------------------\n",
            "\n",
            "epoch 9\n",
            "epoch loss on train: 1.2103746291753408\n",
            "\n",
            "test evaluation:\n"
          ]
        },
        {
          "output_type": "stream",
          "name": "stderr",
          "text": [
            "100%|██████████| 10/10 [03:34<00:00, 21.43s/it]"
          ]
        },
        {
          "output_type": "stream",
          "name": "stdout",
          "text": [
            "\n",
            "epoch loss on test: 1.0494876535315263\n",
            "accuracy on test: 0.6844345989980196\n",
            "--------------------\n"
          ]
        },
        {
          "output_type": "stream",
          "name": "stderr",
          "text": [
            "\n"
          ]
        }
      ],
      "source": [
        "losses = []\n",
        "losses_eval = []\n",
        "accs = []\n",
        "accs_eval = []\n",
        "\n",
        "for i in tqdm(range(10)):\n",
        "    print(f'\\nepoch {i}')\n",
        "    model, epoch_loss = training(model, train_iterator, optimizer, criterion)\n",
        "    print('epoch loss on train:', epoch_loss)\n",
        "    losses.append(epoch_loss)\n",
        "    print('\\ntest evaluation:')\n",
        "    acc_on_test, epoch_loss_on_test = evaluate(model, val_iterator, criterion)\n",
        "    print('\\nepoch loss on test:', epoch_loss_on_test)\n",
        "    print('accuracy on test:', acc_on_test)\n",
        "    print('--------------------')\n",
        "    losses_eval.append(epoch_loss_on_test)\n",
        "    accs_eval.append(acc_on_test)"
      ]
    },
    {
      "cell_type": "code",
      "execution_count": 249,
      "metadata": {
        "colab": {
          "base_uri": "https://localhost:8080/"
        },
        "id": "go-XmxDriHod",
        "outputId": "3e7d1c73-e193-48b7-d949-248dcbc0517c"
      },
      "outputs": [
        {
          "output_type": "execute_result",
          "data": {
            "text/plain": [
              "CLSTM(\n",
              "  (embedding): Embedding(184869, 300)\n",
              "  (dropout1): Dropout(p=0.5, inplace=False)\n",
              "  (ngrams): Conv1d(300, 150, kernel_size=(3,), stride=(1,), padding=same)\n",
              "  (relu): ReLU()\n",
              "  (LSTM): LSTM(150, 150, batch_first=True)\n",
              "  (dropout2): Dropout(p=0.5, inplace=False)\n",
              "  (out): Linear(in_features=150, out_features=6, bias=True)\n",
              ")"
            ]
          },
          "metadata": {},
          "execution_count": 249
        }
      ],
      "source": [
        "model"
      ]
    },
    {
      "cell_type": "code",
      "execution_count": null,
      "metadata": {
        "id": "PE9MGyy1jZK-"
      },
      "outputs": [],
      "source": [
        ""
      ]
    }
  ],
  "metadata": {
    "accelerator": "GPU",
    "colab": {
      "collapsed_sections": [],
      "machine_shape": "hm",
      "name": "HW3_norm.ipynb",
      "provenance": []
    },
    "kernelspec": {
      "display_name": "Python 3",
      "name": "python3"
    },
    "language_info": {
      "name": "python"
    }
  },
  "nbformat": 4,
  "nbformat_minor": 0
}