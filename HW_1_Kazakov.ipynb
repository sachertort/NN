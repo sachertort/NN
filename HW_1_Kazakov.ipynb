{
 "cells": [
  {
   "cell_type": "markdown",
   "metadata": {},
   "source": [
    "# ДЗ 1\n",
    "## Классический МЛ в NLP, вспомнить все!"
   ]
  },
  {
   "cell_type": "markdown",
   "metadata": {},
   "source": [
    "В этом ДЗ будем работать с датасетом Men_Women_Shoes_Reviews ttps://www.kaggle.com/daishinkan002/men-women-shoes-reviews \n",
    " \n",
    "\n",
    "### **Задание 1**. \n",
    "Предсказать цену по описанию товара (для каждого товара)\n",
    "### **Задание 2.** \n",
    "Предсказать оценку товара пользователем по его отзыву (для каждого отзыва)\n",
    "\n",
    "## *Что нужно сделать в каждом задании:* \n",
    "1) проанализировать данные (все, на что хватит вашей фантазии, хороший анализ включает в себя графики и статистические инструменты анализа, можно приходить с вопросами \"какой инструмент поможет мне проверить такую-то гипотезу/хочу посмотреть вот это вот, как это сделать\", предварительно не стесняйтесь гуглить) **1 балл**\n",
    "\n",
    "2) подготовить данные (стемминг, лемматизация, убрать мусор и стоп-слова, нормализовать... все, что покажется вам разумным относительно данных, но вы должны кратко (комментарием к этому блоку кода в тетрадке) объяснить почему вы сделали именно такой препроцессинг. Хороший препроцессинг - разумный, в данном случае чем больше тем не всегда лучше) **1 балла**\n",
    "\n",
    "3) векторизовать тексты (контекстуальные эммбединги пока что не берем, только BoW и TF-IDF) **0.5 балл**\n",
    "\n",
    "4) сделать гридсерч по нескольким моделям (у нас 2 задания, классификация и регрессия), подобрать гиперпараметры, выбрать лучшую модель, рассказать, почему, на ваш взгляд,лучший результат показал лучший алгоритм **1 балл**\n",
    "\n",
    "5) оценить и проанализировать качество лучших решений для каждой задачи (рассказать с чем ваша модель справляется хорошо, а где у нее \"слабые места\", можно ли как-то улучшить ваши результаты. Хороший анализ сопровождается графиками) **1,5 балла** \n",
    "\n",
    "Максимальная сумма баллов при выполнении 5 пунктов в 2 заданиях - 10\n",
    "\n",
    "В тетрадке с первого занятия много дополнительной информации, которая может вам помочь, но все равно не стесняйтесь приходить с вопросами в чат курса. "
   ]
  },
  {
   "cell_type": "code",
   "execution_count": 446,
   "metadata": {},
   "outputs": [],
   "source": [
    "import pandas as pd\n",
    "import spacy\n",
    "from collections import Counter\n",
    "from sklearn.feature_extraction.text import CountVectorizer\n",
    "from sklearn.feature_extraction.text import TfidfVectorizer\n",
    "from sklearn.linear_model import LinearRegression, Lasso\n",
    "from sklearn.model_selection import train_test_split\n",
    "from sklearn.model_selection import GridSearchCV\n",
    "from sklearn.tree import DecisionTreeClassifier\n",
    "from sklearn.metrics import classification_report\n",
    "\n",
    "pd.options.mode.chained_assignment = None\n",
    "nlp = spacy.load('en_core_web_sm')"
   ]
  },
  {
   "cell_type": "code",
   "execution_count": 3,
   "metadata": {},
   "outputs": [],
   "source": [
    "shoes = pd.read_csv('Shoes_Data.csv')"
   ]
  },
  {
   "cell_type": "code",
   "execution_count": 4,
   "metadata": {},
   "outputs": [
    {
     "data": {
      "text/plain": [
       "Index(['title', 'price', 'rating', 'total_reviews', 'product_description',\n",
       "       'reviews', 'reviews_rating', 'Shoe Type'],\n",
       "      dtype='object')"
      ]
     },
     "execution_count": 4,
     "metadata": {},
     "output_type": "execute_result"
    }
   ],
   "source": [
    "shoes.columns"
   ]
  },
  {
   "cell_type": "code",
   "execution_count": 5,
   "metadata": {},
   "outputs": [],
   "source": [
    "shoes['price'] = shoes['price'].apply(lambda p: float(p.strip('₹')))\n",
    "shoes['rating'] = shoes['rating'].apply(lambda p: float(p.split()[0]))\n",
    "shoes['total_reviews'] = shoes['total_reviews'].apply(lambda p: int(p.split()[0]))"
   ]
  },
  {
   "cell_type": "code",
   "execution_count": null,
   "metadata": {},
   "outputs": [],
   "source": []
  },
  {
   "cell_type": "markdown",
   "metadata": {},
   "source": [
    "## Задание 1"
   ]
  },
  {
   "cell_type": "code",
   "execution_count": 416,
   "metadata": {},
   "outputs": [],
   "source": [
    "shoes_prices = shoes.loc[:, ['price', 'product_description']]"
   ]
  },
  {
   "cell_type": "markdown",
   "metadata": {},
   "source": [
    "Строим \"ящик с усами\" и видим, что данные в датасете распределены неравномерно, есть \"выбросы\" в сторону высокой цены."
   ]
  },
  {
   "cell_type": "code",
   "execution_count": 417,
   "metadata": {},
   "outputs": [
    {
     "data": {
      "image/png": "[encoded data removed]",
      "text/plain": [
       "<Figure size 432x288 with 1 Axes>"
      ]
     },
     "metadata": {
      "needs_background": "light"
     },
     "output_type": "display_data"
    }
   ],
   "source": [
    "plt.boxplot(shoes_prices['price'])\n",
    "\n",
    "plt.show()"
   ]
  },
  {
   "cell_type": "markdown",
   "metadata": {},
   "source": [
    "Здесь я предлагаю несколько корреляций."
   ]
  },
  {
   "cell_type": "code",
   "execution_count": 418,
   "metadata": {},
   "outputs": [
    {
     "name": "stdout",
     "output_type": "stream",
     "text": [
      "количество дубликатов: 261\n"
     ]
    }
   ],
   "source": [
    "print('количество дубликатов:', len(shoes_prices.duplicated()[shoes_prices.duplicated() == True]))\n",
    "shoes_prices = shoes_prices.drop_duplicates()"
   ]
  },
  {
   "cell_type": "code",
   "execution_count": 419,
   "metadata": {},
   "outputs": [
    {
     "name": "stdout",
     "output_type": "stream",
     "text": [
      "корреляция Пирсона между ценой и длиной описания в знаках: 0.18190249918743712\n"
     ]
    }
   ],
   "source": [
    "shoes_prices['length'] = shoes_prices['product_description'].apply(lambda d: len(d))\n",
    "print('корреляция Пирсона между ценой и длиной описания в знаках:', \n",
    "      shoes_prices['price'].corr(shoes_prices['length']))"
   ]
  },
  {
   "cell_type": "markdown",
   "metadata": {},
   "source": [
    "Препроцессинг с помощью spacy: лемматизация, понижение регистра, удаление пунктуации, удаление стоп-слов."
   ]
  },
  {
   "cell_type": "code",
   "execution_count": 420,
   "metadata": {},
   "outputs": [],
   "source": [
    "shoes_prices['lemmatized'] = shoes_prices['product_description'].apply(lambda d: [str(n.lemma_).lower() for n in nlp(d) \n",
    "                                                                                 if n.is_punct is False\\\n",
    "                                                                                 and n.is_stop is False])"
   ]
  },
  {
   "cell_type": "code",
   "execution_count": 421,
   "metadata": {},
   "outputs": [
    {
     "name": "stdout",
     "output_type": "stream",
     "text": [
      "корреляция Пирсона между ценой и длиной описания в словах: 0.1872752069111502\n"
     ]
    }
   ],
   "source": [
    "shoes_prices['lemmatized_length'] = shoes_prices['lemmatized'].apply(lambda d: len(d))\n",
    "print('корреляция Пирсона между ценой и длиной описания в словах:', \n",
    "      shoes_prices['price'].corr(shoes_prices['lemmatized_length']))\n",
    "shoes_prices = shoes_prices.loc[shoes_prices['lemmatized_length'] != 0]"
   ]
  },
  {
   "cell_type": "code",
   "execution_count": 422,
   "metadata": {
    "scrolled": false
   },
   "outputs": [
    {
     "name": "stdout",
     "output_type": "stream",
     "text": [
      "корреляция Пирсона между ценой и средней длиной одного слова: -0.18785676011590163\n"
     ]
    }
   ],
   "source": [
    "shoes_prices['mean_word_length'] = shoes_prices.apply(lambda row: row['length'] / row['lemmatized_length'], axis=1)\n",
    "print('корреляция Пирсона между ценой и средней длиной одного слова:', \n",
    "      shoes_prices['price'].corr(shoes_prices['mean_word_length']))"
   ]
  },
  {
   "cell_type": "markdown",
   "metadata": {},
   "source": [
    "Пытаюсь вычленить бренды с помощью NER."
   ]
  },
  {
   "cell_type": "code",
   "execution_count": 423,
   "metadata": {},
   "outputs": [],
   "source": [
    "shoes_prices['brands'] = shoes_prices['product_description'].apply(lambda d: [str(n) for n in nlp(d) \n",
    "                                                                              if n.ent_type_ == 'ORG'])\n",
    "shoes_prices['brands'] = shoes_prices['brands'].apply(lambda d: d[0] if len(d) > 0 else '')"
   ]
  },
  {
   "cell_type": "code",
   "execution_count": 424,
   "metadata": {},
   "outputs": [],
   "source": [
    "shoes_prices['brands'] = shoes_prices['brands'].apply(lambda d: d[0] if len(d) > 0 else '')"
   ]
  },
  {
   "cell_type": "code",
   "execution_count": 425,
   "metadata": {},
   "outputs": [
    {
     "name": "stdout",
     "output_type": "stream",
     "text": [
      "корреляция Пирсона между ценой и популярностью бренда: -0.034387946635689455\n"
     ]
    }
   ],
   "source": [
    "c = Counter(shoes_prices['brands'].tolist())\n",
    "del c['']\n",
    "shoes_prices['popular_brand'] = shoes_prices['brands'].apply(lambda d: c[d])\n",
    "print('корреляция Пирсона между ценой и популярностью бренда:',\n",
    "      shoes_prices['price'].corr(shoes_prices['popular_brand']))"
   ]
  },
  {
   "cell_type": "code",
   "execution_count": 223,
   "metadata": {},
   "outputs": [],
   "source": [
    "shoes_prices['lemmatized'] = shoes_prices['lemmatized'].apply(lambda d: ' '.join(d))"
   ]
  },
  {
   "cell_type": "code",
   "execution_count": 303,
   "metadata": {},
   "outputs": [],
   "source": [
    "tfidf_vec1 = TfidfVectorizer()\n",
    "tfidf_vec1.fit(shoes_prices['lemmatized'].tolist())\n",
    "shoes_prices['tfidf'] = shoes_prices['lemmatized'].apply(lambda d: list(tfidf_vec1.transform([d]).toarray()[0]))"
   ]
  },
  {
   "cell_type": "markdown",
   "metadata": {},
   "source": [
    "К TF-IDF добавляю ещё среднюю длину описания в словах - это признаки."
   ]
  },
  {
   "cell_type": "code",
   "execution_count": 307,
   "metadata": {},
   "outputs": [],
   "source": [
    "for i, s in enumerate(shoes_prices['tfidf'].tolist()):\n",
    "    s.append(shoes_prices['lemmatized_length'][i])"
   ]
  },
  {
   "cell_type": "code",
   "execution_count": 310,
   "metadata": {},
   "outputs": [],
   "source": [
    "x_train, x_test, y_train, y_test = train_test_split(shoes_prices['tfidf'].tolist(), shoes_prices['price'].tolist(), test_size=0.2, random_state=42)"
   ]
  },
  {
   "cell_type": "markdown",
   "metadata": {},
   "source": [
    "ML"
   ]
  },
  {
   "cell_type": "code",
   "execution_count": 311,
   "metadata": {},
   "outputs": [
    {
     "name": "stdout",
     "output_type": "stream",
     "text": [
      "Best score: -1499.7320560000528\n",
      "Best parameters: {'fit_intercept': False, 'positive': True}\n"
     ]
    }
   ],
   "source": [
    "lr = LinearRegression()\n",
    "\n",
    "parameter_grid_lr = {'fit_intercept': [True, False],\n",
    "                    'positive': [True, False]}\n",
    "\n",
    "grid_search = GridSearchCV(lr, param_grid=parameter_grid_lr, scoring='neg_root_mean_squared_error')\n",
    "grid_search.fit(x_train, y_train)\n",
    "print('Best score: {}'.format(grid_search.best_score_))\n",
    "print('Best parameters: {}'.format(grid_search.best_params_))"
   ]
  },
  {
   "cell_type": "code",
   "execution_count": 318,
   "metadata": {},
   "outputs": [
    {
     "name": "stdout",
     "output_type": "stream",
     "text": [
      "Best score: -1201.394027725888\n",
      "Best parameters: {'alpha': 1, 'fit_intercept': True, 'positive': False, 'selection': 'cyclic'}\n"
     ]
    }
   ],
   "source": [
    "lasso = Lasso()\n",
    "\n",
    "parameter_grid_lasso = {'fit_intercept': [True, False],\n",
    "                        'positive': [True, False],\n",
    "                       'alpha': [0.5, 1, 1.5, 2],\n",
    "                       'selection': ['random', 'cyclic']}\n",
    "\n",
    "grid_search = GridSearchCV(lasso, param_grid=parameter_grid_lasso, scoring='neg_root_mean_squared_error')\n",
    "grid_search.fit(x_train, y_train)\n",
    "print('Best score: {}'.format(grid_search.best_score_))\n",
    "print('Best parameters: {}'.format(grid_search.best_params_))"
   ]
  },
  {
   "cell_type": "markdown",
   "metadata": {},
   "source": [
    "Lasso лучше, так как он лучше работает с разреженными данными, но анализировать работу регрессора не вижу смысла: слишком низкое качество."
   ]
  },
  {
   "cell_type": "markdown",
   "metadata": {},
   "source": [
    "## Задание 2"
   ]
  },
  {
   "cell_type": "code",
   "execution_count": 328,
   "metadata": {},
   "outputs": [],
   "source": [
    "shoes_reviews = shoes.loc[:, ['reviews', 'reviews_rating']]"
   ]
  },
  {
   "cell_type": "code",
   "execution_count": 345,
   "metadata": {},
   "outputs": [],
   "source": [
    "reviews = []\n",
    "rates = []\n",
    "shoes_reviews['reviews'].apply(lambda d: reviews.extend(d.split('||')))\n",
    "shoes_reviews['reviews_rating'].apply(lambda d: rates.extend([int(float(rate.split()[0])) \n",
    "                                                              for rate in d.split('||')]))\n",
    "shoes_reviews = pd.DataFrame({'reviews': reviews, 'rates': rates})"
   ]
  },
  {
   "cell_type": "markdown",
   "metadata": {},
   "source": [
    "Посмотрим на распределение по оценкам среди отзывов, написанных капсом."
   ]
  },
  {
   "cell_type": "code",
   "execution_count": 389,
   "metadata": {},
   "outputs": [],
   "source": [
    "shoes_reviews['upper_case'] = shoes_reviews['reviews'].apply(lambda l: 1 if l.isupper() else 0)"
   ]
  },
  {
   "cell_type": "code",
   "execution_count": 375,
   "metadata": {},
   "outputs": [],
   "source": [
    "co = Counter(sorted(shoes_reviews[shoes_reviews['upper_case'] == 1]['rates'].tolist()))"
   ]
  },
  {
   "cell_type": "code",
   "execution_count": 376,
   "metadata": {},
   "outputs": [
    {
     "data": {
      "image/png": "[encoded data removed]",
      "text/plain": [
       "<Figure size 432x288 with 1 Axes>"
      ]
     },
     "metadata": {
      "needs_background": "light"
     },
     "output_type": "display_data"
    }
   ],
   "source": [
    "labels, values = zip(*co.items())\n",
    "\n",
    "indexes = np.arange(len(labels))\n",
    "width = 1\n",
    "\n",
    "plt.bar(indexes, values, width)\n",
    "plt.xticks(indexes + width * 0.5, labels)\n",
    "plt.show()"
   ]
  },
  {
   "cell_type": "markdown",
   "metadata": {},
   "source": [
    "Распределение по таргетной переменной (оценка)."
   ]
  },
  {
   "cell_type": "code",
   "execution_count": 383,
   "metadata": {
    "scrolled": true
   },
   "outputs": [
    {
     "data": {
      "image/png": "[encoded data removed]",
      "text/plain": [
       "<Figure size 432x288 with 1 Axes>"
      ]
     },
     "metadata": {},
     "output_type": "display_data"
    }
   ],
   "source": [
    "import numpy as np\n",
    "\n",
    "y = np.array(list(Counter(sorted(shoes_reviews['rates'].tolist())).values()))\n",
    "mylabels = range(1, 6)\n",
    "\n",
    "plt.pie(y, labels = mylabels)\n",
    "plt.show() "
   ]
  },
  {
   "cell_type": "markdown",
   "metadata": {},
   "source": [
    "Тот же препроцессинг, но (!) без лемматизации: боюсь потерять слова типа *no*, *not*, да и вообще отзывы достаточно короткие."
   ]
  },
  {
   "cell_type": "code",
   "execution_count": 427,
   "metadata": {},
   "outputs": [],
   "source": [
    "shoes_reviews['lemmatized'] = shoes_reviews['reviews'].apply(lambda d: [str(n.lemma_).lower() for n in nlp(d) \n",
    "                                                                                 if n.is_punct is False])"
   ]
  },
  {
   "cell_type": "code",
   "execution_count": 429,
   "metadata": {},
   "outputs": [],
   "source": [
    "shoes_reviews['lemmatized'] = shoes_reviews['lemmatized'].apply(lambda d: ' '.join(d))"
   ]
  },
  {
   "cell_type": "code",
   "execution_count": 430,
   "metadata": {
    "scrolled": true
   },
   "outputs": [
    {
     "data": {
      "text/html": [
       "<div>\n",
       "<style scoped>\n",
       "    .dataframe tbody tr th:only-of-type {\n",
       "        vertical-align: middle;\n",
       "    }\n",
       "\n",
       "    .dataframe tbody tr th {\n",
       "        vertical-align: top;\n",
       "    }\n",
       "\n",
       "    .dataframe thead th {\n",
       "        text-align: right;\n",
       "    }\n",
       "</style>\n",
       "<table border=\"1\" class=\"dataframe\">\n",
       "  <thead>\n",
       "    <tr style=\"text-align: right;\">\n",
       "      <th></th>\n",
       "      <th>reviews</th>\n",
       "      <th>rates</th>\n",
       "      <th>upper_case</th>\n",
       "      <th>emoji</th>\n",
       "      <th>lemmatized</th>\n",
       "    </tr>\n",
       "  </thead>\n",
       "  <tbody>\n",
       "    <tr>\n",
       "      <th>0</th>\n",
       "      <td>Not happy with product</td>\n",
       "      <td>1</td>\n",
       "      <td>0</td>\n",
       "      <td>0</td>\n",
       "      <td>not happy with product</td>\n",
       "    </tr>\n",
       "    <tr>\n",
       "      <th>1</th>\n",
       "      <td>It's not as expected.</td>\n",
       "      <td>1</td>\n",
       "      <td>0</td>\n",
       "      <td>0</td>\n",
       "      <td>it be not as expect</td>\n",
       "    </tr>\n",
       "    <tr>\n",
       "      <th>2</th>\n",
       "      <td>AVERAGE PRODUCT</td>\n",
       "      <td>3</td>\n",
       "      <td>1</td>\n",
       "      <td>0</td>\n",
       "      <td>average product</td>\n",
       "    </tr>\n",
       "    <tr>\n",
       "      <th>3</th>\n",
       "      <td>Pic more beautiful</td>\n",
       "      <td>3</td>\n",
       "      <td>0</td>\n",
       "      <td>0</td>\n",
       "      <td>pic more beautiful</td>\n",
       "    </tr>\n",
       "    <tr>\n",
       "      <th>4</th>\n",
       "      <td>Got damage product. But quality is average fo...</td>\n",
       "      <td>3</td>\n",
       "      <td>0</td>\n",
       "      <td>0</td>\n",
       "      <td>got damage product but quality be average fo...</td>\n",
       "    </tr>\n",
       "    <tr>\n",
       "      <th>...</th>\n",
       "      <td>...</td>\n",
       "      <td>...</td>\n",
       "      <td>...</td>\n",
       "      <td>...</td>\n",
       "      <td>...</td>\n",
       "    </tr>\n",
       "    <tr>\n",
       "      <th>9953</th>\n",
       "      <td>Go for it!</td>\n",
       "      <td>5</td>\n",
       "      <td>0</td>\n",
       "      <td>0</td>\n",
       "      <td>go for it</td>\n",
       "    </tr>\n",
       "    <tr>\n",
       "      <th>9954</th>\n",
       "      <td>Excellent product</td>\n",
       "      <td>5</td>\n",
       "      <td>0</td>\n",
       "      <td>0</td>\n",
       "      <td>excellent product</td>\n",
       "    </tr>\n",
       "    <tr>\n",
       "      <th>9955</th>\n",
       "      <td>Nice shoe</td>\n",
       "      <td>5</td>\n",
       "      <td>0</td>\n",
       "      <td>0</td>\n",
       "      <td>nice shoe</td>\n",
       "    </tr>\n",
       "    <tr>\n",
       "      <th>9956</th>\n",
       "      <td>Nice</td>\n",
       "      <td>5</td>\n",
       "      <td>0</td>\n",
       "      <td>0</td>\n",
       "      <td>nice</td>\n",
       "    </tr>\n",
       "    <tr>\n",
       "      <th>9957</th>\n",
       "      <td>Asics shoes are the best</td>\n",
       "      <td>5</td>\n",
       "      <td>0</td>\n",
       "      <td>0</td>\n",
       "      <td>asics shoe be the good</td>\n",
       "    </tr>\n",
       "  </tbody>\n",
       "</table>\n",
       "<p>9958 rows × 5 columns</p>\n",
       "</div>"
      ],
      "text/plain": [
       "                                                reviews  rates  upper_case  \\\n",
       "0                                Not happy with product      1           0   \n",
       "1                                 It's not as expected.      1           0   \n",
       "2                                       AVERAGE PRODUCT      3           1   \n",
       "3                                    Pic more beautiful      3           0   \n",
       "4      Got damage product. But quality is average fo...      3           0   \n",
       "...                                                 ...    ...         ...   \n",
       "9953                                         Go for it!      5           0   \n",
       "9954                                  Excellent product      5           0   \n",
       "9955                                          Nice shoe      5           0   \n",
       "9956                                               Nice      5           0   \n",
       "9957                           Asics shoes are the best      5           0   \n",
       "\n",
       "      emoji                                         lemmatized  \n",
       "0         0                             not happy with product  \n",
       "1         0                                it be not as expect  \n",
       "2         0                                    average product  \n",
       "3         0                                 pic more beautiful  \n",
       "4         0    got damage product but quality be average fo...  \n",
       "...     ...                                                ...  \n",
       "9953      0                                          go for it  \n",
       "9954      0                                  excellent product  \n",
       "9955      0                                          nice shoe  \n",
       "9956      0                                               nice  \n",
       "9957      0                             asics shoe be the good  \n",
       "\n",
       "[9958 rows x 5 columns]"
      ]
     },
     "execution_count": 430,
     "metadata": {},
     "output_type": "execute_result"
    }
   ],
   "source": [
    "shoes_reviews"
   ]
  },
  {
   "cell_type": "code",
   "execution_count": 433,
   "metadata": {},
   "outputs": [
    {
     "name": "stdout",
     "output_type": "stream",
     "text": [
      "корреляция Пирсона между оценкой и длиной описания в словах: -0.14743557226530601\n"
     ]
    }
   ],
   "source": [
    "shoes_reviews['lemmatized_length'] = shoes_reviews['lemmatized'].apply(lambda d: len(d))\n",
    "print('корреляция Пирсона между оценкой и длиной описания в словах:', \n",
    "      shoes_reviews['rates'].corr(shoes_reviews['lemmatized_length']))\n",
    "shoes_reviews = shoes_reviews.loc[shoes_reviews['lemmatized_length'] != 0]"
   ]
  },
  {
   "cell_type": "code",
   "execution_count": 437,
   "metadata": {},
   "outputs": [],
   "source": [
    "tfidf_vec2 = TfidfVectorizer()\n",
    "tfidf_vec2.fit(shoes_reviews['lemmatized'].tolist())\n",
    "shoes_reviews['tfidf'] = shoes_reviews['lemmatized'].apply(lambda d: list(tfidf_vec2.transform([d]).toarray()[0]))"
   ]
  },
  {
   "cell_type": "code",
   "execution_count": 438,
   "metadata": {},
   "outputs": [],
   "source": [
    "shoes_reviews = shoes_reviews.reset_index()"
   ]
  },
  {
   "cell_type": "markdown",
   "metadata": {},
   "source": [
    "К TF-IDF добавляю ещё среднюю длину отзыва в словах - это признаки."
   ]
  },
  {
   "cell_type": "code",
   "execution_count": 439,
   "metadata": {},
   "outputs": [],
   "source": [
    "for i, s in enumerate(shoes_reviews['tfidf'].tolist()):\n",
    "    s.append(shoes_reviews['lemmatized_length'][i])"
   ]
  },
  {
   "cell_type": "code",
   "execution_count": 441,
   "metadata": {},
   "outputs": [],
   "source": [
    "x_train, x_test, y_train, y_test = train_test_split(shoes_reviews['tfidf'].tolist(), \n",
    "                                                    shoes_reviews['rates'].tolist(), \n",
    "                                                    test_size=0.2, random_state=42)"
   ]
  },
  {
   "cell_type": "code",
   "execution_count": 442,
   "metadata": {},
   "outputs": [
    {
     "name": "stdout",
     "output_type": "stream",
     "text": [
      "Best score: 0.4769595770526408\n",
      "Best parameters: {'criterion': 'gini', 'max_depth': None}\n"
     ]
    }
   ],
   "source": [
    "tree = DecisionTreeClassifier()\n",
    "\n",
    "parameter_grid_tree = {'criterion':['gini','entropy'],\n",
    "                        'max_depth':[5, 10, 15, 20, 50, 70, 100, None]}\n",
    "\n",
    "grid_search = GridSearchCV(tree, param_grid=parameter_grid_tree, scoring='f1_macro')\n",
    "grid_search.fit(x_train, y_train)\n",
    "print('Best score: {}'.format(grid_search.best_score_))\n",
    "print('Best parameters: {}'.format(grid_search.best_params_))"
   ]
  },
  {
   "cell_type": "code",
   "execution_count": 444,
   "metadata": {},
   "outputs": [
    {
     "data": {
      "text/plain": [
       "DecisionTreeClassifier()"
      ]
     },
     "execution_count": 444,
     "metadata": {},
     "output_type": "execute_result"
    }
   ],
   "source": [
    "tree2 = DecisionTreeClassifier(criterion='gini', max_depth=None)\n",
    "tree2.fit(x_train, y_train)"
   ]
  },
  {
   "cell_type": "code",
   "execution_count": 448,
   "metadata": {},
   "outputs": [
    {
     "name": "stdout",
     "output_type": "stream",
     "text": [
      "              precision    recall  f1-score   support\n",
      "\n",
      "           1       0.70      0.71      0.71       341\n",
      "           2       0.43      0.29      0.35       107\n",
      "           3       0.44      0.40      0.42       154\n",
      "           4       0.48      0.31      0.38       356\n",
      "           5       0.74      0.86      0.79      1034\n",
      "\n",
      "    accuracy                           0.67      1992\n",
      "   macro avg       0.56      0.52      0.53      1992\n",
      "weighted avg       0.65      0.67      0.65      1992\n",
      "\n"
     ]
    }
   ],
   "source": [
    "print(classification_report(y_test, tree2.predict(x_test)))"
   ]
  },
  {
   "cell_type": "markdown",
   "metadata": {},
   "source": [
    "Наиболее низкая оценка у класса, с наименьшим количеством экземпляров. Улучшить можно было бы с помощью ансамблевого метода RandomForrest: он стабильнее."
   ]
  },
  {
   "cell_type": "code",
   "execution_count": null,
   "metadata": {},
   "outputs": [],
   "source": []
  }
 ],
 "metadata": {
  "kernelspec": {
   "display_name": "Python 3",
   "language": "python",
   "name": "python3"
  },
  "language_info": {
   "codemirror_mode": {
    "name": "ipython",
    "version": 3
   },
   "file_extension": ".py",
   "mimetype": "text/x-python",
   "name": "python",
   "nbconvert_exporter": "python",
   "pygments_lexer": "ipython3",
   "version": "3.7.3"
  }
 },
 "nbformat": 4,
 "nbformat_minor": 4
}
